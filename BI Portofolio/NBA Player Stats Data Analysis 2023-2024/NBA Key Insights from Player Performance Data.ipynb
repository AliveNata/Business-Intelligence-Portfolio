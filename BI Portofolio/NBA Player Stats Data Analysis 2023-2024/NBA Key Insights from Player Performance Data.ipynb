{
 "cells": [
  {
   "cell_type": "code",
   "execution_count": 1,
   "id": "435980ca",
   "metadata": {},
   "outputs": [
    {
     "name": "stdout",
     "output_type": "stream",
     "text": [
      "Defaulting to user installation because normal site-packages is not writeable\n",
      "Requirement already satisfied: pandas in c:\\users\\fabelio\\appdata\\roaming\\python\\python312\\site-packages (2.2.3)\n",
      "Requirement already satisfied: numpy>=1.26.0 in c:\\users\\fabelio\\appdata\\roaming\\python\\python312\\site-packages (from pandas) (2.2.2)\n",
      "Requirement already satisfied: python-dateutil>=2.8.2 in c:\\users\\fabelio\\appdata\\roaming\\python\\python312\\site-packages (from pandas) (2.9.0.post0)\n",
      "Requirement already satisfied: pytz>=2020.1 in c:\\users\\fabelio\\appdata\\roaming\\python\\python312\\site-packages (from pandas) (2024.2)\n",
      "Requirement already satisfied: tzdata>=2022.7 in c:\\users\\fabelio\\appdata\\roaming\\python\\python312\\site-packages (from pandas) (2024.2)\n",
      "Requirement already satisfied: six>=1.5 in c:\\users\\fabelio\\appdata\\roaming\\python\\python312\\site-packages (from python-dateutil>=2.8.2->pandas) (1.17.0)\n",
      "Defaulting to user installation because normal site-packages is not writeable\n",
      "Requirement already satisfied: numpy in c:\\users\\fabelio\\appdata\\roaming\\python\\python312\\site-packages (2.2.2)\n",
      "Defaulting to user installation because normal site-packages is not writeable\n",
      "Requirement already satisfied: openpyxl in c:\\users\\fabelio\\appdata\\roaming\\python\\python312\\site-packages (3.1.5)\n",
      "Requirement already satisfied: et-xmlfile in c:\\users\\fabelio\\appdata\\roaming\\python\\python312\\site-packages (from openpyxl) (2.0.0)\n"
     ]
    }
   ],
   "source": [
    "!pip install pandas\n",
    "!pip install numpy\n",
    "!pip install openpyxl\n",
    "\n",
    "import pandas as pd\n",
    "import numpy as np"
   ]
  },
  {
   "cell_type": "code",
   "execution_count": 2,
   "id": "a5a54133",
   "metadata": {},
   "outputs": [],
   "source": [
    "#Import file by each months\n",
    "\n",
    "first_data = pd.read_csv('C:\\\\Users\\\\FABELIO\\\\Perqara Test Case\\\\NBA Player Stats Dataset for the 2023-2024\\\\NBA_2024_per_game(03-01-2024).csv')\n",
    "# Add'month','year', 'day' column\n",
    "first_data['year'] = 2024        # Add year column\n",
    "first_data['month'] = 'January'  # Add month column\n",
    "first_data['day'] = 15           # Add day column\n",
    "\n",
    "second_data = pd.read_csv('C:\\\\Users\\\\FABELIO\\\\Perqara Test Case\\\\NBA Player Stats Dataset for the 2023-2024\\\\NBA_2024_per_game(04-12-2023).csv')\n",
    "# Add'month','year', 'day' column\n",
    "second_data['year'] = 2023         # Add year column\n",
    "second_data['month'] = 'December'  # Add month column\n",
    "second_data['day'] = 4             # Add day column\n",
    "\n",
    "third_data = pd.read_csv('C:\\\\Users\\\\FABELIO\\\\Perqara Test Case\\\\NBA Player Stats Dataset for the 2023-2024\\\\NBA_2024_per_game(05-12-2023).csv')\n",
    "# Add'month','year', 'day' column\n",
    "third_data['year'] = 2023         # Add year column\n",
    "third_data['month'] = 'December'  # Add month column\n",
    "third_data['day'] = 5             # Add day column\n",
    "\n",
    "fourth_data = pd.read_csv('C:\\\\Users\\\\FABELIO\\\\Perqara Test Case\\\\NBA Player Stats Dataset for the 2023-2024\\\\NBA_2024_per_game(13-11-2023 Updated).csv')\n",
    "# Add'month','year', 'day' column\n",
    "fourth_data['year'] = 2023         # Add year column\n",
    "fourth_data['month'] = 'November'  # Add month column\n",
    "fourth_data['day'] = 13            # Add day column\n",
    "\n",
    "fifth_data = pd.read_csv('C:\\\\Users\\\\FABELIO\\\\Perqara Test Case\\\\NBA Player Stats Dataset for the 2023-2024\\\\NBA_2024_per_game(15-11-2023 Updated).csv')\n",
    "# Add'month','year', 'day' column\n",
    "fifth_data['year'] = 2023         # Add year column\n",
    "fifth_data['month'] = 'November'  # Add month column\n",
    "fifth_data['day'] = 15            # Add day column\n",
    "\n",
    "sixth_data = pd.read_csv('C:\\\\Users\\\\FABELIO\\\\Perqara Test Case\\\\NBA Player Stats Dataset for the 2023-2024\\\\NBA_2024_per_game(17-11-2023).csv')\n",
    "# Add'month','year', 'day' column\n",
    "sixth_data['year'] = 2023         # Add year column\n",
    "sixth_data['month'] = 'November'  # Add month column\n",
    "sixth_data['day'] = 17            # Add day column\n",
    "\n",
    "seventh_data = pd.read_csv('C:\\\\Users\\\\FABELIO\\\\Perqara Test Case\\\\NBA Player Stats Dataset for the 2023-2024\\\\NBA_2024_per_game(20-11-2023).csv')\n",
    "# Add'month','year', 'day' column\n",
    "seventh_data['year'] = 2023         # Add year column\n",
    "seventh_data['month'] = 'November'  # Add month column\n",
    "seventh_data['day'] = 20            # Add day column\n",
    "\n",
    "eighth_data = pd.read_csv('C:\\\\Users\\\\FABELIO\\\\Perqara Test Case\\\\NBA Player Stats Dataset for the 2023-2024\\\\NBA_2024_per_game(22-11-2023).csv')\n",
    "# Add'month','year', 'day' column\n",
    "eighth_data['year'] = 2023         # Add year column\n",
    "eighth_data['month'] = 'November'  # Add month column\n",
    "eighth_data['day'] = 22            # Add day column\n",
    "\n",
    "ninth_data = pd.read_csv('C:\\\\Users\\\\FABELIO\\\\Perqara Test Case\\\\NBA Player Stats Dataset for the 2023-2024\\\\NBA_2024_per_game(26-01-2024).csv')\n",
    "# Add'month','year', 'day' column\n",
    "ninth_data['year'] = 2024         # Add year column\n",
    "ninth_data['month'] = 'January'  # Add month column\n",
    "ninth_data['day'] = 26            # Add day column\n",
    "\n",
    "tenh_data = pd.read_csv('C:\\\\Users\\\\FABELIO\\\\Perqara Test Case\\\\NBA Player Stats Dataset for the 2023-2024\\\\NBA_2024_per_game(27-12-2023).csv')\n",
    "# Add'month','year', 'day' column\n",
    "tenh_data['year'] = 2023         # Add year column\n",
    "tenh_data['month'] = 'December'  # Add month column\n",
    "tenh_data['day'] = 27            # Add day column\n",
    "\n",
    "eleventh_data = pd.read_csv('C:\\\\Users\\\\FABELIO\\\\Perqara Test Case\\\\NBA Player Stats Dataset for the 2023-2024\\\\NBA_2024_per_game(28-11-2023).csv')\n",
    "# Add'month','year', 'day' column\n",
    "eleventh_data['year'] = 2023         # Add year column\n",
    "eleventh_data['month'] = 'November'  # Add month column\n",
    "eleventh_data['day'] = 28            # Add day column"
   ]
  },
  {
   "cell_type": "code",
   "execution_count": 3,
   "id": "6fa77658",
   "metadata": {},
   "outputs": [
    {
     "name": "stdout",
     "output_type": "stream",
     "text": [
      "             Player   Pos  Age   Tm   G  GS    MP   FG   FGA    FG%  ...  STL  \\\n",
      "0  Precious Achiuwa  C-PF   24  TOT  26   0  17.2  3.0   6.6  0.453  ...  0.6   \n",
      "1  Precious Achiuwa     C   24  TOR  25   0  17.5  3.1   6.8  0.459  ...  0.6   \n",
      "2  Precious Achiuwa    PF   24  NYK   1   0   9.0  0.0   2.0  0.000  ...  0.0   \n",
      "3       Bam Adebayo     C   26  MIA  23  23  34.1  8.0  15.7  0.506  ...  1.1   \n",
      "4      Ochai Agbaji    SG   23  UTA  34  10  21.1  2.6   5.7  0.451  ...  0.6   \n",
      "\n",
      "   BLK  TOV   PF   PTS  year    month  day        date  datemonth  \n",
      "0  0.5  1.1  1.6   7.4  2024  January   15  2024-01-15 2024-01-15  \n",
      "1  0.5  1.2  1.6   7.7  2024  January   15  2024-01-15 2024-01-15  \n",
      "2  0.0  0.0  2.0   0.0  2024  January   15  2024-01-15 2024-01-15  \n",
      "3  1.0  2.7  2.4  22.0  2024  January   15  2024-01-15 2024-01-15  \n",
      "4  0.5  0.7  1.5   6.6  2024  January   15  2024-01-15 2024-01-15  \n",
      "\n",
      "[5 rows x 34 columns]\n"
     ]
    }
   ],
   "source": [
    "# Place all datasets into a list\n",
    "datasets = [first_data, second_data, third_data, fourth_data, fifth_data, sixth_data, seventh_data, \n",
    "            eighth_data, ninth_data, tenh_data, eleventh_data]\n",
    "\n",
    "# Create 'date' with yyyy-mm-dd format\n",
    "for data in datasets:\n",
    "    data['date'] = data['year'].astype(str) + '-' + \\\n",
    "                   data['month'].apply(lambda x: pd.to_datetime(x, format='%B').strftime('%m')) + '-' + \\\n",
    "                   data['day'].astype(str)\n",
    "\n",
    "#Change datetime value\n",
    "for data in datasets:    \n",
    "    data['datemonth'] = pd.to_datetime(data['date'])\n",
    "\n",
    "#Into one dataset\n",
    "NBA_2023_2024 = pd.concat(datasets, ignore_index=True)\n",
    "\n",
    "print(NBA_2023_2024.head())"
   ]
  },
  {
   "cell_type": "code",
   "execution_count": 4,
   "id": "6052089e",
   "metadata": {},
   "outputs": [
    {
     "name": "stdout",
     "output_type": "stream",
     "text": [
      "                Player   Pos  Age   Tm   G  GS    MP   FG   FGA    FG%  ...  \\\n",
      "0     Precious Achiuwa  C-PF   24  TOT  26   0  17.2  3.0   6.6  0.453  ...   \n",
      "1     Precious Achiuwa     C   24  TOR  25   0  17.5  3.1   6.8  0.459  ...   \n",
      "2     Precious Achiuwa    PF   24  NYK   1   0   9.0  0.0   2.0  0.000  ...   \n",
      "3          Bam Adebayo     C   26  MIA  23  23  34.1  8.0  15.7  0.506  ...   \n",
      "4         Ochai Agbaji    SG   23  UTA  34  10  21.1  2.6   5.7  0.451  ...   \n",
      "...                ...   ...  ...  ...  ..  ..   ...  ...   ...    ...  ...   \n",
      "5517    Thaddeus Young    PF   35  TOR   3   0   3.3  0.7   1.3  0.500  ...   \n",
      "5518        Trae Young    PG   25  ATL  15  15  35.9  7.7  19.1  0.402  ...   \n",
      "5519    Omer Yurtseven     C   25  UTA  10   1   9.1  1.9   3.0  0.633  ...   \n",
      "5520       Cody Zeller     C   31  NOP  13   0   9.2  0.7   1.9  0.360  ...   \n",
      "5521       Ivica Zubac     C   26  LAC  15  15  25.2  4.3   7.1  0.613  ...   \n",
      "\n",
      "      STL  BLK  TOV   PF   PTS  year     month  day        date  datemonth  \n",
      "0     0.6  0.5  1.1  1.6   7.4  2024   January   15  2024-01-15 2024-01-15  \n",
      "1     0.6  0.5  1.2  1.6   7.7  2024   January   15  2024-01-15 2024-01-15  \n",
      "2     0.0  0.0  0.0  2.0   0.0  2024   January   15  2024-01-15 2024-01-15  \n",
      "3     1.1  1.0  2.7  2.4  22.0  2024   January   15  2024-01-15 2024-01-15  \n",
      "4     0.6  0.5  0.7  1.5   6.6  2024   January   15  2024-01-15 2024-01-15  \n",
      "...   ...  ...  ...  ...   ...   ...       ...  ...         ...        ...  \n",
      "5517  0.0  0.0  0.3  0.0   1.3  2023  November   28  2023-11-28 2023-11-28  \n",
      "5518  1.6  0.0  3.9  1.5  26.5  2023  November   28  2023-11-28 2023-11-28  \n",
      "5519  0.1  0.3  0.3  0.8   4.3  2023  November   28  2023-11-28 2023-11-28  \n",
      "5520  0.2  0.2  0.3  0.9   1.8  2023  November   28  2023-11-28 2023-11-28  \n",
      "5521  0.1  1.3  1.4  2.8  10.5  2023  November   28  2023-11-28 2023-11-28  \n",
      "\n",
      "[5522 rows x 34 columns]\n"
     ]
    }
   ],
   "source": [
    "print(NBA_2023_2024)"
   ]
  },
  {
   "cell_type": "code",
   "execution_count": 5,
   "id": "709d99a6",
   "metadata": {},
   "outputs": [
    {
     "name": "stdout",
     "output_type": "stream",
     "text": [
      "      datemonth     month           Player Pos  Age   Tm  G  GS    MP   FG  \\\n",
      "1864 2023-11-13  November  Julian Phillips  SF   20  CHI  4   0   2.5  0.0   \n",
      "1782 2023-11-13  November   Kira Lewis Jr.  PG   22  NOP  8   0  13.1  1.3   \n",
      "1781 2023-11-13  November     Caris LeVert  SG   29  CLE  8   1  33.8  6.5   \n",
      "1780 2023-11-13  November    Kawhi Leonard  SF   32  LAC  8   8  33.0  8.3   \n",
      "1779 2023-11-13  November         Alex Len   C   30  SAC  5   0   7.0  1.0   \n",
      "\n",
      "      ...    FT%  ORB  DRB  TRB  AST  STL  BLK  TOV   PF   PTS  \n",
      "1864  ...    NaN  0.0  0.3  0.3  0.0  0.0  0.0  0.0  0.0   0.0  \n",
      "1782  ...  0.875  0.3  0.9  1.1  1.5  0.5  0.1  0.5  0.9   3.5  \n",
      "1781  ...  0.725  0.5  4.0  4.5  4.3  1.3  0.5  1.4  1.9  18.8  \n",
      "1780  ...  0.786  1.3  4.4  5.6  4.0  1.4  0.3  1.8  1.6  22.0  \n",
      "1779  ...  0.429  1.4  1.8  3.2  0.4  0.2  1.0  0.4  0.4   2.6  \n",
      "\n",
      "[5 rows x 31 columns]\n"
     ]
    }
   ],
   "source": [
    "# Drop 'year', 'day', and 'date' columns\n",
    "NBA_2023_2024 = NBA_2023_2024.drop(columns=['year', 'day', 'date'])\n",
    "\n",
    "# Adjust position 'datemonth' and 'month' columns\n",
    "columns = ['datemonth', 'month'] + [col for col in NBA_2023_2024.columns if col not in ['datemonth', 'month']]\n",
    "NBA_2023_2024 = NBA_2023_2024[columns]\n",
    "\n",
    "# Sort asc by 'datemonth' column\n",
    "NBA_2023_2024 = NBA_2023_2024.sort_values(by='datemonth', ascending=True)\n",
    "\n",
    "print(NBA_2023_2024.head())"
   ]
  },
  {
   "cell_type": "code",
   "execution_count": 6,
   "id": "55fd3569",
   "metadata": {},
   "outputs": [
    {
     "data": {
      "text/plain": [
       "1923"
      ]
     },
     "execution_count": 6,
     "metadata": {},
     "output_type": "execute_result"
    }
   ],
   "source": [
    "#Check missing values\n",
    "missing_values = NBA_2023_2024.isnull().sum()\n",
    "missing_values.sum()"
   ]
  },
  {
   "cell_type": "code",
   "execution_count": 7,
   "id": "14ddaf09",
   "metadata": {},
   "outputs": [
    {
     "data": {
      "text/plain": [
       "0"
      ]
     },
     "execution_count": 7,
     "metadata": {},
     "output_type": "execute_result"
    }
   ],
   "source": [
    "#Change missing values with '0'\n",
    "NBA_2023_2024 = NBA_2023_2024.fillna(0)\n",
    "\n",
    "#Check missing values\n",
    "missing_values = NBA_2023_2024.isnull().sum()\n",
    "missing_values.sum()"
   ]
  },
  {
   "cell_type": "code",
   "execution_count": 8,
   "id": "a6729a80",
   "metadata": {},
   "outputs": [
    {
     "data": {
      "text/plain": [
       "0"
      ]
     },
     "execution_count": 8,
     "metadata": {},
     "output_type": "execute_result"
    }
   ],
   "source": [
    "#Check duplicates\n",
    "duplicates = NBA_2023_2024.duplicated().sum()\n",
    "duplicates.sum()"
   ]
  },
  {
   "cell_type": "code",
   "execution_count": 9,
   "id": "c3c02ad2",
   "metadata": {},
   "outputs": [],
   "source": [
    "NBA_2023_2024.to_csv('C:\\\\Users\\\\FABELIO\\\\Perqara Test Case\\\\NBA Player Stats Dataset for the 2023-2024\\\\NBA_2023_2024_cleaned.csv', sep='|', index=False)"
   ]
  },
  {
   "cell_type": "code",
   "execution_count": 10,
   "id": "1a05798a",
   "metadata": {},
   "outputs": [
    {
     "name": "stdout",
     "output_type": "stream",
     "text": [
      "Defaulting to user installation because normal site-packages is not writeable\n",
      "Requirement already satisfied: chardet in c:\\users\\fabelio\\appdata\\roaming\\python\\python312\\site-packages (5.2.0)\n"
     ]
    }
   ],
   "source": [
    "#For character detection\n",
    "!pip install chardet"
   ]
  },
  {
   "cell_type": "code",
   "execution_count": 11,
   "id": "56fa42be",
   "metadata": {},
   "outputs": [
    {
     "name": "stdout",
     "output_type": "stream",
     "text": [
      "Name: chardet\n",
      "Version: 5.2.0\n",
      "Summary: Universal encoding detector for Python 3\n",
      "Home-page: https://github.com/chardet/chardet\n",
      "Author: Mark Pilgrim\n",
      "Author-email: mark@diveintomark.org\n",
      "License: LGPL\n",
      "Location: c:\\users\\fabelio\\appdata\\local\\programs\\python\\python310\\lib\\site-packages\n",
      "Requires: \n",
      "Required-by: \n",
      "Note: you may need to restart the kernel to use updated packages.\n"
     ]
    }
   ],
   "source": [
    "pip show chardet"
   ]
  },
  {
   "cell_type": "code",
   "execution_count": 12,
   "id": "f54312dd",
   "metadata": {},
   "outputs": [
    {
     "name": "stdout",
     "output_type": "stream",
     "text": [
      "{'encoding': 'utf-8', 'confidence': 0.99, 'language': ''}\n"
     ]
    }
   ],
   "source": [
    "import chardet\n",
    "\n",
    "with open(\"C:\\\\Users\\\\FABELIO\\\\Perqara Test Case\\\\NBA Player Stats Dataset for the 2023-2024\\\\NBA_2023_2024_cleaned.csv\", \"rb\") as f:\n",
    "    result = chardet.detect(f.read())\n",
    "    print(result) "
   ]
  },
  {
   "cell_type": "code",
   "execution_count": 13,
   "id": "6fc0cd67",
   "metadata": {},
   "outputs": [
    {
     "name": "stdout",
     "output_type": "stream",
     "text": [
      "      datemonth     month          Player Pos  Age   Tm   G  GS    MP    FG  \\\n",
      "1764 2023-11-13  November    Nikola Jovic  PF   20  MIA   2   1  14.0   2.0   \n",
      "1755 2023-11-13  November    Nikola Jokic   C   28  DEN   9   9  34.2  11.9   \n",
      "1966 2023-11-13  November  Nikola Vucevic   C   33  CHI   9   9  34.8   7.1   \n",
      "2436 2023-11-15  November  Nikola Vucevic   C   33  CHI  11  11  34.7   7.5   \n",
      "2221 2023-11-15  November    Nikola Jokic   C   28  DEN  10  10  34.6  12.0   \n",
      "2230 2023-11-15  November    Nikola Jovic  PF   20  MIA   2   1  14.0   2.0   \n",
      "2910 2023-11-17  November  Nikola Vucevic   C   33  CHI  12  12  34.8   7.6   \n",
      "2691 2023-11-17  November    Nikola Jokic   C   28  DEN  11  11  34.7  11.6   \n",
      "2700 2023-11-17  November    Nikola Jovic  PF   20  MIA   2   1  14.0   2.0   \n",
      "3393 2023-11-20  November  Nikola Vucevic   C   33  CHI  14  14  34.4   7.3   \n",
      "3180 2023-11-20  November    Nikola Jovic  PF   20  MIA   2   1  14.0   2.0   \n",
      "3171 2023-11-20  November    Nikola Jokic   C   28  DEN  12  12  34.8  11.5   \n",
      "3881 2023-11-22  November  Nikola Vucevic   C   33  CHI  15  15  34.2   7.3   \n",
      "3666 2023-11-22  November    Nikola Jovic  PF   20  MIA   2   1  14.0   2.0   \n",
      "3657 2023-11-22  November    Nikola Jokic   C   28  DEN  14  14  32.9  10.7   \n",
      "5477 2023-11-28  November  Nikola Vucevic   C   33  CHI  18  18  34.6   6.8   \n",
      "5257 2023-11-28  November    Nikola Jovic  PF   20  MIA   3   1  15.0   1.3   \n",
      "5248 2023-11-28  November    Nikola Jokic   C   28  DEN  17  17  33.8  11.4   \n",
      "996  2023-12-04  December  Nikola Vucevic   C   33  CHI  21  21  34.3   6.7   \n",
      "773  2023-12-04  December    Nikola Jovic  PF   20  MIA   3   1  15.0   1.3   \n",
      "764  2023-12-04  December    Nikola Jokic   C   28  DEN  20  20  34.1  11.4   \n",
      "1499 2023-12-05  December  Nikola Vucevic   C   33  CHI  21  21  34.3   6.7   \n",
      "1276 2023-12-05  December    Nikola Jovic  PF   20  MIA   3   1  15.0   1.3   \n",
      "1267 2023-12-05  December    Nikola Jokic   C   28  DEN  20  20  34.1  11.4   \n",
      "4981 2023-12-27  December  Nikola Vucevic   C   33  CHI  31  31  34.0   7.0   \n",
      "4744 2023-12-27  December    Nikola Jovic  PF   20  MIA   4   1  12.0   1.0   \n",
      "4735 2023-12-27  December    Nikola Jokic   C   28  DEN  31  31  33.7  10.1   \n",
      "242  2024-01-15   January    Nikola Jokic   C   28  DEN  34  34  33.4   9.9   \n",
      "492  2024-01-15   January  Nikola Vucevic   C   33  CHI  31  31  34.0   7.0   \n",
      "251  2024-01-15   January    Nikola Jovic  PF   20  MIA   7   2  11.6   1.6   \n",
      "4183 2024-01-26   January    Nikola Jokic   C   28  DEN  44  44  33.6  10.2   \n",
      "4452 2024-01-26   January  Nikola Vucevic   C   33  CHI  40  38  33.7   7.3   \n",
      "4192 2024-01-26   January    Nikola Jovic  PF   20  MIA  17  12  18.2   2.1   \n",
      "\n",
      "      ...    FT%  ORB   DRB   TRB  AST  STL  BLK  TOV   PF   PTS  \n",
      "1764  ...  1.000  0.0   7.5   7.5  2.0  0.5  0.0  1.0  1.0   6.5  \n",
      "1755  ...  0.714  3.1   9.8  12.9  8.0  1.1  0.8  3.4  2.1  29.1  \n",
      "1966  ...  0.750  2.8   7.9  10.7  2.6  0.9  0.6  1.8  2.7  16.3  \n",
      "2436  ...  0.762  3.0   7.9  10.9  2.9  1.0  0.6  1.6  2.8  17.6  \n",
      "2221  ...  0.754  3.4  10.3  13.7  8.3  1.0  0.8  3.4  2.2  29.8  \n",
      "2230  ...  1.000  0.0   7.5   7.5  2.0  0.5  0.0  1.0  1.0   6.5  \n",
      "2910  ...  0.773  3.0   7.8  10.8  2.9  0.9  0.7  1.9  2.9  17.6  \n",
      "2691  ...  0.803  3.4  10.5  13.9  8.4  1.0  0.7  3.5  2.2  30.0  \n",
      "2700  ...  1.000  0.0   7.5   7.5  2.0  0.5  0.0  1.0  1.0   6.5  \n",
      "3393  ...  0.792  2.9   7.6  10.5  2.9  0.9  0.6  1.9  2.9  16.9  \n",
      "3180  ...  1.000  0.0   7.5   7.5  2.0  0.5  0.0  1.0  1.0   6.5  \n",
      "3171  ...  0.816  3.3  10.8  14.1  9.2  1.0  0.8  3.5  2.2  29.7  \n",
      "3881  ...  0.821  2.8   7.5  10.3  2.9  0.8  0.6  1.9  3.0  16.9  \n",
      "3666  ...  1.000  0.0   7.5   7.5  2.0  0.5  0.0  1.0  1.0   6.5  \n",
      "3657  ...  0.790  2.9  10.3  13.1  8.7  0.9  0.8  3.3  2.3  27.4  \n",
      "5477  ...  0.833  2.7   7.6  10.2  3.1  0.9  0.6  1.8  3.2  15.8  \n",
      "5257  ...  0.750  0.3   6.7   7.0  3.0  0.3  0.0  1.3  2.3   4.7  \n",
      "5248  ...  0.794  3.3  10.1  13.4  8.9  1.2  0.8  3.2  2.5  28.8  \n",
      "996   ...  0.833  2.5   7.5  10.0  3.2  0.9  0.7  1.8  2.9  15.6  \n",
      "773   ...  0.750  0.3   6.7   7.0  3.0  0.3  0.0  1.3  2.3   4.7  \n",
      "764   ...  0.781  3.3   9.5  12.8  9.8  1.2  0.8  2.9  2.6  29.0  \n",
      "1499  ...  0.833  2.5   7.5  10.0  3.2  0.9  0.7  1.8  2.9  15.6  \n",
      "1276  ...  0.750  0.3   6.7   7.0  3.0  0.3  0.0  1.3  2.3   4.7  \n",
      "1267  ...  0.781  3.3   9.5  12.8  9.8  1.2  0.8  2.9  2.6  29.0  \n",
      "4981  ...  0.875  2.7   7.6  10.4  3.4  0.8  0.7  1.7  2.6  16.7  \n",
      "4744  ...  0.750  0.3   5.5   5.8  2.3  0.3  0.0  1.3  2.3   3.5  \n",
      "4735  ...  0.814  3.3   9.1  12.3  9.2  1.2  0.8  2.6  2.7  26.4  \n",
      "242   ...  0.818  3.0   9.2  12.3  9.1  1.1  0.9  2.7  2.6  25.7  \n",
      "492   ...  0.875  2.7   7.6  10.4  3.4  0.8  0.7  1.7  2.6  16.7  \n",
      "251   ...  0.667  0.6   3.4   4.0  2.0  0.3  0.1  0.9  2.4   4.9  \n",
      "4183  ...  0.825  3.0   9.0  12.0  9.1  1.1  0.9  2.8  2.6  26.2  \n",
      "4452  ...  0.864  2.7   8.0  10.7  3.6  0.7  0.7  1.6  2.6  16.9  \n",
      "4192  ...  0.550  0.9   3.8   4.6  2.1  0.4  0.4  1.0  2.2   5.9  \n",
      "\n",
      "[33 rows x 31 columns]\n"
     ]
    }
   ],
   "source": [
    "import unicodedata\n",
    "\n",
    "# Cleansing player name\n",
    "def clean_name(name):\n",
    "    return unicodedata.normalize('NFKD', name).encode('ascii', 'ignore').decode('utf-8')\n",
    "\n",
    "# Applied to all\n",
    "NBA_2023_2024['Player'] = NBA_2023_2024['Player'].apply(clean_name)\n",
    "\n",
    "# Check sample player name\n",
    "sample_player = NBA_2023_2024[NBA_2023_2024['Player'].str.contains('Nikola', case=False, na=False)]\n",
    "\n",
    "print(sample_player)"
   ]
  },
  {
   "cell_type": "code",
   "execution_count": 14,
   "id": "291e4596",
   "metadata": {},
   "outputs": [],
   "source": [
    "NBA_2023_2024.to_csv('C:\\\\Users\\\\FABELIO\\\\Perqara Test Case\\\\NBA Player Stats Dataset for the 2023-2024\\\\NBA_2023_2024_cleaned2.csv', sep='|', index=False)"
   ]
  },
  {
   "cell_type": "code",
   "execution_count": 15,
   "id": "37af4e74",
   "metadata": {},
   "outputs": [
    {
     "name": "stdout",
     "output_type": "stream",
     "text": [
      "Defaulting to user installation because normal site-packages is not writeable\n",
      "Requirement already satisfied: matplotlib in c:\\users\\fabelio\\appdata\\roaming\\python\\python312\\site-packages (3.10.0)\n",
      "Requirement already satisfied: contourpy>=1.0.1 in c:\\users\\fabelio\\appdata\\roaming\\python\\python312\\site-packages (from matplotlib) (1.3.1)\n",
      "Requirement already satisfied: cycler>=0.10 in c:\\users\\fabelio\\appdata\\roaming\\python\\python312\\site-packages (from matplotlib) (0.12.1)\n",
      "Requirement already satisfied: fonttools>=4.22.0 in c:\\users\\fabelio\\appdata\\roaming\\python\\python312\\site-packages (from matplotlib) (4.55.4)\n",
      "Requirement already satisfied: kiwisolver>=1.3.1 in c:\\users\\fabelio\\appdata\\roaming\\python\\python312\\site-packages (from matplotlib) (1.4.8)\n",
      "Requirement already satisfied: numpy>=1.23 in c:\\users\\fabelio\\appdata\\roaming\\python\\python312\\site-packages (from matplotlib) (2.2.2)\n",
      "Requirement already satisfied: packaging>=20.0 in c:\\users\\fabelio\\appdata\\roaming\\python\\python312\\site-packages (from matplotlib) (24.2)\n",
      "Requirement already satisfied: pillow>=8 in c:\\users\\fabelio\\appdata\\roaming\\python\\python312\\site-packages (from matplotlib) (11.1.0)\n",
      "Requirement already satisfied: pyparsing>=2.3.1 in c:\\users\\fabelio\\appdata\\roaming\\python\\python312\\site-packages (from matplotlib) (3.2.1)\n",
      "Requirement already satisfied: python-dateutil>=2.7 in c:\\users\\fabelio\\appdata\\roaming\\python\\python312\\site-packages (from matplotlib) (2.9.0.post0)\n",
      "Requirement already satisfied: six>=1.5 in c:\\users\\fabelio\\appdata\\roaming\\python\\python312\\site-packages (from python-dateutil>=2.7->matplotlib) (1.17.0)\n",
      "Defaulting to user installation because normal site-packages is not writeable\n",
      "Requirement already satisfied: ipywidgets in c:\\users\\fabelio\\appdata\\roaming\\python\\python312\\site-packages (8.1.5)\n",
      "Requirement already satisfied: comm>=0.1.3 in c:\\users\\fabelio\\appdata\\roaming\\python\\python312\\site-packages (from ipywidgets) (0.2.2)\n",
      "Requirement already satisfied: ipython>=6.1.0 in c:\\users\\fabelio\\appdata\\roaming\\python\\python312\\site-packages (from ipywidgets) (8.31.0)\n",
      "Requirement already satisfied: traitlets>=4.3.1 in c:\\users\\fabelio\\appdata\\roaming\\python\\python312\\site-packages (from ipywidgets) (5.14.3)\n",
      "Requirement already satisfied: widgetsnbextension~=4.0.12 in c:\\users\\fabelio\\appdata\\roaming\\python\\python312\\site-packages (from ipywidgets) (4.0.13)\n",
      "Requirement already satisfied: jupyterlab-widgets~=3.0.12 in c:\\users\\fabelio\\appdata\\roaming\\python\\python312\\site-packages (from ipywidgets) (3.0.13)\n",
      "Requirement already satisfied: colorama in c:\\users\\fabelio\\appdata\\roaming\\python\\python312\\site-packages (from ipython>=6.1.0->ipywidgets) (0.4.6)\n",
      "Requirement already satisfied: decorator in c:\\users\\fabelio\\appdata\\roaming\\python\\python312\\site-packages (from ipython>=6.1.0->ipywidgets) (5.1.1)\n",
      "Requirement already satisfied: jedi>=0.16 in c:\\users\\fabelio\\appdata\\roaming\\python\\python312\\site-packages (from ipython>=6.1.0->ipywidgets) (0.19.2)\n",
      "Requirement already satisfied: matplotlib-inline in c:\\users\\fabelio\\appdata\\roaming\\python\\python312\\site-packages (from ipython>=6.1.0->ipywidgets) (0.1.7)\n",
      "Requirement already satisfied: prompt_toolkit<3.1.0,>=3.0.41 in c:\\users\\fabelio\\appdata\\roaming\\python\\python312\\site-packages (from ipython>=6.1.0->ipywidgets) (3.0.50)\n",
      "Requirement already satisfied: pygments>=2.4.0 in c:\\users\\fabelio\\appdata\\roaming\\python\\python312\\site-packages (from ipython>=6.1.0->ipywidgets) (2.19.1)\n",
      "Requirement already satisfied: stack_data in c:\\users\\fabelio\\appdata\\roaming\\python\\python312\\site-packages (from ipython>=6.1.0->ipywidgets) (0.6.3)\n",
      "Requirement already satisfied: parso<0.9.0,>=0.8.4 in c:\\users\\fabelio\\appdata\\roaming\\python\\python312\\site-packages (from jedi>=0.16->ipython>=6.1.0->ipywidgets) (0.8.4)\n",
      "Requirement already satisfied: wcwidth in c:\\users\\fabelio\\appdata\\roaming\\python\\python312\\site-packages (from prompt_toolkit<3.1.0,>=3.0.41->ipython>=6.1.0->ipywidgets) (0.2.13)\n",
      "Requirement already satisfied: executing>=1.2.0 in c:\\users\\fabelio\\appdata\\roaming\\python\\python312\\site-packages (from stack_data->ipython>=6.1.0->ipywidgets) (2.1.0)\n",
      "Requirement already satisfied: asttokens>=2.1.0 in c:\\users\\fabelio\\appdata\\roaming\\python\\python312\\site-packages (from stack_data->ipython>=6.1.0->ipywidgets) (3.0.0)\n",
      "Requirement already satisfied: pure-eval in c:\\users\\fabelio\\appdata\\roaming\\python\\python312\\site-packages (from stack_data->ipython>=6.1.0->ipywidgets) (0.2.3)\n",
      "Defaulting to user installation because normal site-packages is not writeable\n",
      "Requirement already satisfied: IPython in c:\\users\\fabelio\\appdata\\roaming\\python\\python312\\site-packages (8.31.0)\n",
      "Requirement already satisfied: colorama in c:\\users\\fabelio\\appdata\\roaming\\python\\python312\\site-packages (from IPython) (0.4.6)\n",
      "Requirement already satisfied: decorator in c:\\users\\fabelio\\appdata\\roaming\\python\\python312\\site-packages (from IPython) (5.1.1)\n",
      "Requirement already satisfied: jedi>=0.16 in c:\\users\\fabelio\\appdata\\roaming\\python\\python312\\site-packages (from IPython) (0.19.2)\n",
      "Requirement already satisfied: matplotlib-inline in c:\\users\\fabelio\\appdata\\roaming\\python\\python312\\site-packages (from IPython) (0.1.7)\n",
      "Requirement already satisfied: prompt_toolkit<3.1.0,>=3.0.41 in c:\\users\\fabelio\\appdata\\roaming\\python\\python312\\site-packages (from IPython) (3.0.50)\n",
      "Requirement already satisfied: pygments>=2.4.0 in c:\\users\\fabelio\\appdata\\roaming\\python\\python312\\site-packages (from IPython) (2.19.1)\n",
      "Requirement already satisfied: stack_data in c:\\users\\fabelio\\appdata\\roaming\\python\\python312\\site-packages (from IPython) (0.6.3)\n",
      "Requirement already satisfied: traitlets>=5.13.0 in c:\\users\\fabelio\\appdata\\roaming\\python\\python312\\site-packages (from IPython) (5.14.3)\n",
      "Requirement already satisfied: parso<0.9.0,>=0.8.4 in c:\\users\\fabelio\\appdata\\roaming\\python\\python312\\site-packages (from jedi>=0.16->IPython) (0.8.4)\n",
      "Requirement already satisfied: wcwidth in c:\\users\\fabelio\\appdata\\roaming\\python\\python312\\site-packages (from prompt_toolkit<3.1.0,>=3.0.41->IPython) (0.2.13)\n",
      "Requirement already satisfied: executing>=1.2.0 in c:\\users\\fabelio\\appdata\\roaming\\python\\python312\\site-packages (from stack_data->IPython) (2.1.0)\n",
      "Requirement already satisfied: asttokens>=2.1.0 in c:\\users\\fabelio\\appdata\\roaming\\python\\python312\\site-packages (from stack_data->IPython) (3.0.0)\n",
      "Requirement already satisfied: pure-eval in c:\\users\\fabelio\\appdata\\roaming\\python\\python312\\site-packages (from stack_data->IPython) (0.2.3)\n"
     ]
    }
   ],
   "source": [
    "!pip install matplotlib\n",
    "!pip install ipywidgets\n",
    "!pip install IPython"
   ]
  },
  {
   "cell_type": "code",
   "execution_count": 16,
   "id": "a078b45d",
   "metadata": {},
   "outputs": [
    {
     "data": {
      "application/vnd.jupyter.widget-view+json": {
       "model_id": "f34904c6c73b4b9fb0c1eead84167617",
       "version_major": 2,
       "version_minor": 0
      },
      "text/plain": [
       "interactive(children=(Dropdown(description='Select Player:', layout=Layout(width='50%'), options=('A.J. Green'…"
      ]
     },
     "metadata": {},
     "output_type": "display_data"
    },
    {
     "data": {
      "text/plain": [
       "<function __main__.plot_full_metrics_for_player(player_name)>"
      ]
     },
     "execution_count": 16,
     "metadata": {},
     "output_type": "execute_result"
    }
   ],
   "source": [
    "import matplotlib.pyplot as plt\n",
    "from ipywidgets import Dropdown, interact\n",
    "from IPython.display import display\n",
    "\n",
    "# Player's sort by asc\n",
    "sorted_players = sorted(NBA_2023_2024['Player'].unique())\n",
    "\n",
    "# Create a dropdown widget for selecting a player\n",
    "player_dropdown_full = Dropdown(\n",
    "    options=sorted_players,\n",
    "    description='Select Player:',\n",
    "    style={'description_width': 'initial'},\n",
    "    layout={'width': '50%'}\n",
    ")\n",
    "\n",
    "# Define metrics for analysis\n",
    "all_metrics = ['PTS', 'AST', 'TRB', 'FG%', '3P%', 'FT%']\n",
    "\n",
    "# Define legend mapping for metrics\n",
    "legend_mapping = {\n",
    "    'PTS': 'Points per game',\n",
    "    'AST': 'Assists per game',\n",
    "    'TRB': 'Total rebounds per game',\n",
    "    'FG%': 'Field Goal %',\n",
    "    '3P%': '3-Point %',\n",
    "    'FT%': 'Free Throw %'\n",
    "}\n",
    "\n",
    "# These columns need percentage value\n",
    "percentage_metrics = ['FG%', '3P%', 'FT%']\n",
    "\n",
    "# Define the custom order for months\n",
    "month_order = ['November', 'December', 'January']\n",
    "\n",
    "# Function to update and plot player performance based on dropdown selection\n",
    "def plot_full_metrics_for_player(player_name):\n",
    "    # Filter data for the selected player\n",
    "    player_data = NBA_2023_2024[NBA_2023_2024['Player'] == player_name].copy()\n",
    "    \n",
    "    # Check if player exists in the dataset\n",
    "    if player_data.empty:\n",
    "        print(f\"No data found for player: {player_name}\")\n",
    "        return\n",
    "    \n",
    "    # Convert month column to a categorical type with a defined order\n",
    "    player_data['month'] = pd.Categorical(player_data['month'], categories=month_order, ordered=True)\n",
    "    \n",
    "    # Group by month and calculate mean for all metrics\n",
    "    player_monthly_trends = player_data.groupby('month')[all_metrics].mean()\n",
    "    \n",
    "    # Convert percentage metrics to percentage values\n",
    "    for metric in percentage_metrics:\n",
    "        if metric in player_monthly_trends.columns:\n",
    "            player_monthly_trends[metric] = player_monthly_trends[metric] * 100\n",
    "    \n",
    "    # Calculate MoM% for all metrics\n",
    "    player_monthly_trends_mom = player_monthly_trends.pct_change() * 100\n",
    "    \n",
    "    # Replace NaN values in MoM% with 0 and round to 2 decimal places\n",
    "    player_monthly_trends_mom = player_monthly_trends_mom.fillna(0).round(2)\n",
    "    \n",
    "    # Print player's monthly trends and MoM%\n",
    "    print(f\"Monthly Performance Trends for {player_name}:\")\n",
    "    display(player_monthly_trends)\n",
    "    \n",
    "    print(f\"Month-over-Month Percentage Change (MoM%) for {player_name}:\")\n",
    "    display(player_monthly_trends_mom)\n",
    "    \n",
    "    # Visualize trends for all metrics in one plot\n",
    "    plt.figure(figsize=(12, 8))\n",
    "    \n",
    "    for metric in all_metrics:\n",
    "        if metric in player_monthly_trends.columns:\n",
    "            plt.plot(\n",
    "                player_monthly_trends.index, \n",
    "                player_monthly_trends[metric], \n",
    "                marker='o', linestyle='-', linewidth=2, label=legend_mapping.get(metric, metric)\n",
    "            )\n",
    "            \n",
    "            # Annotate each point with its value\n",
    "            for i, value in enumerate(player_monthly_trends[metric]):\n",
    "                plt.annotate(f\"{value:.1f}\" if metric not in percentage_metrics else f\"{value:.1f}%\", \n",
    "                             (player_monthly_trends.index[i], player_monthly_trends[metric].iloc[i]),\n",
    "                             textcoords=\"offset points\", xytext=(0, 5), ha='center')\n",
    "    \n",
    "    # Add title, labels, grid, and legend\n",
    "    plt.title(f\"{player_name} - Monthly Performance Trends\", fontsize=16)\n",
    "    plt.xlabel(\"Month\", fontsize=12)\n",
    "    plt.ylabel(\"Metrics\", fontsize=12)\n",
    "    plt.grid(True)\n",
    "    plt.xticks(rotation=45)\n",
    "    plt.legend(title=\"Metrics\", fontsize=10)\n",
    "    plt.tight_layout()\n",
    "    plt.show()\n",
    "\n",
    "    # Visualize MoM% for all metrics\n",
    "    plt.figure(figsize=(12, 8))\n",
    "    \n",
    "    for metric in all_metrics:\n",
    "        if metric in player_monthly_trends_mom.columns:\n",
    "            plt.plot(\n",
    "                player_monthly_trends_mom.index, \n",
    "                player_monthly_trends_mom[metric], \n",
    "                marker='o', linestyle='--', linewidth=2, label=f\"MoM% {legend_mapping.get(metric, metric)}\"\n",
    "            )\n",
    "            \n",
    "            # Annotate each point with its value\n",
    "            for i, value in enumerate(player_monthly_trends_mom[metric]):\n",
    "                plt.annotate(f\"{value:.2f}%\",  # Round to 2 decimal places\n",
    "                             (player_monthly_trends_mom.index[i], player_monthly_trends_mom[metric].iloc[i]),\n",
    "                             textcoords=\"offset points\", xytext=(0, 5), ha='center')\n",
    "    \n",
    "    # Add title, labels, grid, and legend for MoM%\n",
    "    plt.title(f\"{player_name} - Month-over-Month Percentage Change (MoM%)\", fontsize=16)\n",
    "    plt.xlabel(\"Month\", fontsize=12)\n",
    "    plt.ylabel(\"MoM%\", fontsize=12)\n",
    "    plt.grid(True)\n",
    "    plt.xticks(rotation=45)\n",
    "    plt.legend(title=\"Metrics (MoM%)\", fontsize=10)\n",
    "    plt.tight_layout()\n",
    "    plt.show()\n",
    "\n",
    "# Link dropdown to the plotting function\n",
    "interact(plot_full_metrics_for_player, player_name=player_dropdown_full)"
   ]
  },
  {
   "cell_type": "code",
   "execution_count": 17,
   "id": "c0510d1f",
   "metadata": {},
   "outputs": [
    {
     "name": "stdout",
     "output_type": "stream",
     "text": [
      "Defaulting to user installation because normal site-packages is not writeable\n",
      "Requirement already satisfied: scipy in c:\\users\\fabelio\\appdata\\roaming\\python\\python312\\site-packages (1.15.1)\n",
      "Requirement already satisfied: numpy<2.5,>=1.23.5 in c:\\users\\fabelio\\appdata\\roaming\\python\\python312\\site-packages (from scipy) (2.2.2)\n"
     ]
    }
   ],
   "source": [
    "!pip install scipy"
   ]
  },
  {
   "cell_type": "code",
   "execution_count": 18,
   "id": "49183f5f",
   "metadata": {},
   "outputs": [
    {
     "name": "stdout",
     "output_type": "stream",
     "text": [
      "Name: scipy\n",
      "Version: 1.7.3\n",
      "Summary: SciPy: Scientific Library for Python\n",
      "Home-page: https://www.scipy.org\n",
      "Author: \n",
      "Author-email: \n",
      "License: BSD\n",
      "Location: c:\\users\\fabelio\\appdata\\local\\programs\\python\\python310\\lib\\site-packages\n",
      "Requires: numpy\n",
      "Required-by: scikit-learn, seaborn\n",
      "Note: you may need to restart the kernel to use updated packages.\n"
     ]
    }
   ],
   "source": [
    "pip show scipy"
   ]
  },
  {
   "cell_type": "code",
   "execution_count": 19,
   "id": "50a40c91",
   "metadata": {},
   "outputs": [
    {
     "name": "stdout",
     "output_type": "stream",
     "text": [
      "Defaulting to user installation because normal site-packages is not writeable\n",
      "Requirement already satisfied: scikit-learn in c:\\users\\fabelio\\appdata\\roaming\\python\\python312\\site-packages (1.6.1)\n",
      "Requirement already satisfied: numpy>=1.19.5 in c:\\users\\fabelio\\appdata\\roaming\\python\\python312\\site-packages (from scikit-learn) (2.2.2)\n",
      "Requirement already satisfied: scipy>=1.6.0 in c:\\users\\fabelio\\appdata\\roaming\\python\\python312\\site-packages (from scikit-learn) (1.15.1)\n",
      "Requirement already satisfied: joblib>=1.2.0 in c:\\users\\fabelio\\appdata\\roaming\\python\\python312\\site-packages (from scikit-learn) (1.4.2)\n",
      "Requirement already satisfied: threadpoolctl>=3.1.0 in c:\\users\\fabelio\\appdata\\roaming\\python\\python312\\site-packages (from scikit-learn) (3.5.0)\n"
     ]
    }
   ],
   "source": [
    "!pip install scikit-learn"
   ]
  },
  {
   "cell_type": "code",
   "execution_count": 20,
   "id": "ea2613ad",
   "metadata": {},
   "outputs": [
    {
     "name": "stdout",
     "output_type": "stream",
     "text": [
      "Name: scikit-learn\n",
      "Version: 1.6.1\n",
      "Summary: A set of python modules for machine learning and data mining\n",
      "Home-page: \n",
      "Author: \n",
      "Author-email: \n",
      "License: BSD 3-Clause License\n",
      "         \n",
      "         Copyright (c) 2007-2024 The scikit-learn developers.\n",
      "         All rights reserved.\n",
      "         \n",
      "         Redistribution and use in source and binary forms, with or without\n",
      "         modification, are permitted provided that the following conditions are met:\n",
      "         \n",
      "         * Redistributions of source code must retain the above copyright notice, this\n",
      "           list of conditions and the following disclaimer.\n",
      "         \n",
      "         * Redistributions in binary form must reproduce the above copyright notice,\n",
      "           this list of conditions and the following disclaimer in the documentation\n",
      "           and/or other materials provided with the distribution.\n",
      "         \n",
      "         * Neither the name of the copyright holder nor the names of its\n",
      "           contributors may be used to endorse or promote products derived from\n",
      "           this software without specific prior written permission.\n",
      "         \n",
      "         THIS SOFTWARE IS PROVIDED BY THE COPYRIGHT HOLDERS AND CONTRIBUTORS \"AS IS\"\n",
      "         AND ANY EXPRESS OR IMPLIED WARRANTIES, INCLUDING, BUT NOT LIMITED TO, THE\n",
      "         IMPLIED WARRANTIES OF MERCHANTABILITY AND FITNESS FOR A PARTICULAR PURPOSE ARE\n",
      "         DISCLAIMED. IN NO EVENT SHALL THE COPYRIGHT HOLDER OR CONTRIBUTORS BE LIABLE\n",
      "         FOR ANY DIRECT, INDIRECT, INCIDENTAL, SPECIAL, EXEMPLARY, OR CONSEQUENTIAL\n",
      "         DAMAGES (INCLUDING, BUT NOT LIMITED TO, PROCUREMENT OF SUBSTITUTE GOODS OR\n",
      "         SERVICES; LOSS OF USE, DATA, OR PROFITS; OR BUSINESS INTERRUPTION) HOWEVER\n",
      "         CAUSED AND ON ANY THEORY OF LIABILITY, WHETHER IN CONTRACT, STRICT LIABILITY,\n",
      "         OR TORT (INCLUDING NEGLIGENCE OR OTHERWISE) ARISING IN ANY WAY OUT OF THE USE\n",
      "         OF THIS SOFTWARE, EVEN IF ADVISED OF THE POSSIBILITY OF SUCH DAMAGE.\n",
      "         \n",
      "         ----\n",
      "         \n",
      "         This binary distribution of scikit-learn also bundles the following software:\n",
      "         \n",
      "         ----\n",
      "         \n",
      "         Name: Microsoft Visual C++ Runtime Files\n",
      "         Files: sklearn\\.libs\\*.dll\n",
      "         Availability: https://learn.microsoft.com/en-us/visualstudio/releases/2015/2015-redistribution-vs\n",
      "         \n",
      "         Subject to the License Terms for the software, you may copy and distribute with your\n",
      "         program any of the files within the followng folder and its subfolders except as noted\n",
      "         below. You may not modify these files.\n",
      "         \n",
      "         C:\\Program Files (x86)\\Microsoft Visual Studio 14.0\\VC\\redist\n",
      "         \n",
      "         You may not distribute the contents of the following folders:\n",
      "         \n",
      "         C:\\Program Files (x86)\\Microsoft Visual Studio 14.0\\VC\\redist\\debug_nonredist\n",
      "         C:\\Program Files (x86)\\Microsoft Visual Studio 14.0\\VC\\redist\\onecore\\debug_nonredist\n",
      "         \n",
      "         Subject to the License Terms for the software, you may copy and distribute the following\n",
      "         files with your program in your program’s application local folder or by deploying them\n",
      "         into the Global Assembly Cache (GAC):\n",
      "         \n",
      "         VC\\atlmfc\\lib\\mfcmifc80.dll\n",
      "         VC\\atlmfc\\lib\\amd64\\mfcmifc80.dll\n",
      "         \n",
      "Location: c:\\users\\fabelio\\appdata\\local\\programs\\python\\python310\\lib\\site-packages\n",
      "Requires: joblib, numpy, scipy, threadpoolctl\n",
      "Required-by: \n",
      "Note: you may need to restart the kernel to use updated packages.\n"
     ]
    }
   ],
   "source": [
    "pip show scikit-learn"
   ]
  },
  {
   "cell_type": "code",
   "execution_count": 24,
   "id": "84c34c20",
   "metadata": {},
   "outputs": [
    {
     "data": {
      "application/vnd.jupyter.widget-view+json": {
       "model_id": "feedbdb94eaa434c8b05d0d81069ee8d",
       "version_major": 2,
       "version_minor": 0
      },
      "text/plain": [
       "VBox(children=(Dropdown(description='Player:', options=('-', 'A.J. Green', 'A.J. Lawson', 'AJ Griffin', 'Aaron…"
      ]
     },
     "metadata": {},
     "output_type": "display_data"
    }
   ],
   "source": [
    "import pandas as pd\n",
    "from scipy.stats import f_oneway\n",
    "from sklearn.linear_model import LinearRegression\n",
    "import numpy as np\n",
    "import matplotlib.pyplot as plt\n",
    "from ipywidgets import Dropdown, Output, VBox\n",
    "from IPython.display import display, HTML\n",
    "\n",
    "# Copy Dataset\n",
    "NBA_2023_2024 = NBA_2023_2024.copy()\n",
    "\n",
    "# Widget for output\n",
    "output = Output()\n",
    "\n",
    "# Player's dropdown\n",
    "player_dropdown = Dropdown(options=['-'] + sorted(NBA_2023_2024['Player'].unique()), description='Player:')\n",
    "\n",
    "# Analysis of Variance (ANOVA)\n",
    "def perform_anova(filtered_data):\n",
    "    # Every month have a data\n",
    "    required_months = ['November', 'December', 'January']\n",
    "    available_months = filtered_data['month'].unique()\n",
    "    if not all(month in available_months for month in required_months):\n",
    "        return '<p style=\"color: red;\">Insufficient data across all months for the selected filters.</p>'\n",
    "    \n",
    "    # Get PTS by each month\n",
    "    november_pts = filtered_data[filtered_data['month'] == 'November']['PTS']\n",
    "    december_pts = filtered_data[filtered_data['month'] == 'December']['PTS']\n",
    "    january_pts = filtered_data[filtered_data['month'] == 'January']['PTS']\n",
    "    \n",
    "    # try ANOVA\n",
    "    f_stat, p_value = f_oneway(november_pts, december_pts, january_pts)\n",
    "    \n",
    "    # Output ANOVA\n",
    "    result = f\"<p>F-Statistic: {f_stat:.4f}</p><p>P-Value: {p_value:.4f}</p>\"\n",
    "    if p_value < 0.05:\n",
    "        result += '<p style=\"color: green;\">There is a significant difference in PTS across the months.</p>'\n",
    "    else:\n",
    "        result += '<p style=\"color: blue;\">There is no significant difference in PTS across the months.</p>'\n",
    "    result += '<p style=\"color: red; font-style: italic;\">*Note: p-value < 0.05 indicates a significant result (threshold).</p>'\n",
    "    return result\n",
    "\n",
    "# Regression Analysis\n",
    "def perform_regression(filtered_data, selected_player):\n",
    "    # Group by month and average for all metrics\n",
    "    player_monthly_trends = filtered_data.groupby('month').mean()\n",
    "    \n",
    "    # Makesure all data are relevant\n",
    "    required_months = ['November', 'December', 'January']\n",
    "    if not all(month in player_monthly_trends.index for month in required_months):\n",
    "        return '<p style=\"color: red;\">Insufficient data across all months for the selected player.</p>'\n",
    "    \n",
    "    # Conversion month to numeric\n",
    "    month_mapping = {'November': 1, 'December': 2, 'January': 3}\n",
    "    player_monthly_trends['month_numeric'] = player_monthly_trends.index.map(month_mapping)\n",
    "    \n",
    "    # Regression Target\n",
    "    X = player_monthly_trends[['month_numeric']]  \n",
    "    y = player_monthly_trends['PTS']  # Target (Points per game)\n",
    "    \n",
    "    # Checking data for regression\n",
    "    if len(X) < 2:\n",
    "        return '<p style=\"color: red;\">Not enough data for regression analysis for the selected player.</p>'\n",
    "    \n",
    "    # Create regresi linier model\n",
    "    model = LinearRegression()\n",
    "    model.fit(X, y)\n",
    "    \n",
    "    # Forecast (bulan berikutnya)\n",
    "    next_month = pd.DataFrame({'month_numeric': [4]})  # Misalnya, bulan ke-4 (Februari)\n",
    "    predicted_pts = model.predict(next_month)\n",
    "    \n",
    "    # Output\n",
    "    result = (f\"<p>Regression results for <b>{selected_player}</b>:</p>\"\n",
    "              f\"<p>Intercept: {model.intercept_:.2f}</p>\"\n",
    "              f\"<p>Coefficient: {model.coef_[0]:.2f}</p>\"\n",
    "              f\"<p>Predicted PTS for next month (February): {predicted_pts[0]:.2f}</p>\")\n",
    "    \n",
    "    # Visualization regression value\n",
    "    plt.figure(figsize=(10, 6))\n",
    "    plt.scatter(X, y, color='blue', label='Actual PTS')\n",
    "    plt.plot(X, model.predict(X), color='red', linestyle='--', label='Regression Line')\n",
    "    plt.scatter(next_month, predicted_pts, color='green', label='Predicted PTS (Next Month)')\n",
    "    plt.title(f\"{selected_player} - Regression Analysis\", fontsize=16)\n",
    "    plt.xlabel(\"Month (Numeric)\", fontsize=12)\n",
    "    plt.ylabel(\"Points per Game (PTS)\", fontsize=12)\n",
    "    plt.legend()\n",
    "    plt.grid(True)\n",
    "    plt.show()\n",
    "    \n",
    "    return result\n",
    "\n",
    "# Analyze by dropdown\n",
    "def analyze_player(change):\n",
    "    with output:\n",
    "        output.clear_output()  # Clear output previously\n",
    "        \n",
    "        selected_player = player_dropdown.value\n",
    "        if selected_player == '-':\n",
    "            display(HTML('<p style=\"color: red;\">Please select a player.</p>'))\n",
    "            return\n",
    "        \n",
    "        # Filter by selected player\n",
    "        filtered_data = NBA_2023_2024[NBA_2023_2024['Player'] == selected_player]\n",
    "        \n",
    "        # Checking whether data is available\n",
    "        if filtered_data.empty:\n",
    "            display(HTML('<p style=\"color: red;\">No data available for the selected player.</p>'))\n",
    "            return\n",
    "        \n",
    "        # Submit ANOVA\n",
    "        anova_result = perform_anova(filtered_data)\n",
    "        display(HTML('<h3>Analysis of Variance (ANOVA)</h3>' + anova_result))\n",
    "        \n",
    "        # Submit Regression Analysis\n",
    "        regression_result = perform_regression(filtered_data, selected_player)\n",
    "        display(HTML('<h3>Regression Analysis</h3>' + regression_result))\n",
    "\n",
    "# Link adjustment dropdown to analyze\n",
    "player_dropdown.observe(analyze_player, names='value')\n",
    "\n",
    "# Show dropdown and output\n",
    "display(VBox([player_dropdown, output]))"
   ]
  },
  {
   "cell_type": "code",
   "execution_count": 22,
   "id": "e0c56aa9",
   "metadata": {},
   "outputs": [
    {
     "data": {
      "application/vnd.jupyter.widget-view+json": {
       "model_id": "8c71fa28e24c4e3b9d665ba22e03c5eb",
       "version_major": 2,
       "version_minor": 0
      },
      "text/plain": [
       "VBox(children=(Dropdown(description='Month:', options=('-', 'November', 'December', 'January'), value='-'), Ou…"
      ]
     },
     "metadata": {},
     "output_type": "display_data"
    }
   ],
   "source": [
    "import pandas as pd\n",
    "import matplotlib.pyplot as plt\n",
    "from ipywidgets import Dropdown, Output, VBox\n",
    "from IPython.display import display, HTML\n",
    "\n",
    "# Copy dataset\n",
    "NBA_2023_2024 = NBA_2023_2024.copy()\n",
    "\n",
    "# Makesure to consistency month value\n",
    "NBA_2023_2024['month'] = NBA_2023_2024['month'].str.strip()  \n",
    "NBA_2023_2024['month'] = NBA_2023_2024['month'].str.capitalize()\n",
    "\n",
    "# Sort by month\n",
    "month_order = ['November', 'December', 'January']\n",
    "NBA_2023_2024['month'] = pd.Categorical(NBA_2023_2024['month'], categories=month_order, ordered=True)\n",
    "\n",
    "# Month's dropdown\n",
    "month_dropdown = Dropdown(\n",
    "    options=['-'] + month_order,\n",
    "    description='Month:',\n",
    "    value='-'\n",
    ")\n",
    "\n",
    "# Output widget \n",
    "output = Output()\n",
    "\n",
    "# Cpmbo chart \n",
    "def combo_chart(selected_month):\n",
    "    with output:\n",
    "        output.clear_output()  \n",
    "        \n",
    "        # Filter data by selected month\n",
    "        filtered_data = NBA_2023_2024.copy()\n",
    "        if selected_month != '-':\n",
    "            filtered_data = filtered_data[filtered_data['month'] == selected_month]\n",
    "        \n",
    "        # Makesure data is available\n",
    "        if filtered_data.empty:\n",
    "            display(HTML('<p style=\"color: red;\">No data available for the selected month.</p>'))\n",
    "            return\n",
    "        \n",
    "        # Top 5 Player with hight point\n",
    "        top_players = filtered_data.groupby(['Player', 'Age', 'Tm', 'Pos']).agg({'PTS': 'sum', 'G': 'sum'}).sort_values('PTS', ascending=False).head(5)\n",
    "        \n",
    "        # Change G = Games to integer\n",
    "        top_players['G'] = top_players['G'].astype(int)\n",
    "        \n",
    "        # Additional player info\n",
    "        player_labels = [\n",
    "            f\"{player}\\nAge: {age}, Team: {team}, Pos: {pos}\"\n",
    "            for player, age, team, pos in top_players.index\n",
    "        ]\n",
    "        \n",
    "        # Create combo chart\n",
    "        fig, ax1 = plt.subplots(figsize=(12, 6))\n",
    "        \n",
    "        # Bar chart for PTS\n",
    "        bars = ax1.bar(player_labels, top_players['PTS'], color='green', label='Points per Game (PTS)')\n",
    "        ax1.set_xlabel('Player', fontsize=12, labelpad=20)  \n",
    "        ax1.set_ylabel('PTS', fontsize=12)\n",
    "        ax1.tick_params(axis='y', labelcolor='green')\n",
    "        ax1.set_title(f\"Top 5 Players by PTS - {selected_month}\" if selected_month != '-' else \"Top 5 Players by PTS\", fontsize=16)\n",
    "        \n",
    "        # Show value\n",
    "        for bar in bars:\n",
    "            height = bar.get_height()\n",
    "            ax1.annotate(f'{height:.0f}',  \n",
    "                         xy=(bar.get_x() + bar.get_width() / 2, height), \n",
    "                         xytext=(0, 5), \n",
    "                         textcoords=\"offset points\", \n",
    "                         ha='center', fontsize=10, color='green')\n",
    "        \n",
    "        # Line chart for Games Played (G)\n",
    "        ax2 = ax1.twinx()\n",
    "        lines = ax2.plot(player_labels, top_players['G'], color='red', marker='o', label='Games Played (G)')\n",
    "        ax2.set_ylabel('Games Played (G)', fontsize=12)\n",
    "        ax2.tick_params(axis='y', labelcolor='red')\n",
    "        \"\"\n",
    "        # Show value\n",
    "        for i, value in enumerate(top_players['G']):\n",
    "            ax2.annotate(f'{value:d}',  \n",
    "                         xy=(i, value), \n",
    "                         xytext=(0, 5), \n",
    "                         textcoords=\"offset points\", \n",
    "                         ha='center', fontsize=10, color='red')\n",
    "        \n",
    "        # Add legend\n",
    "        ax1.legend(loc='upper left')\n",
    "        ax2.legend(loc='upper right')\n",
    "        \n",
    "        # Add grid and show chart\n",
    "        plt.grid(axis='y', linestyle='--', alpha=0.7)\n",
    "        plt.tight_layout()\n",
    "        plt.show()\n",
    "\n",
    "# Update chart by selected filter\n",
    "def update_chart(change):\n",
    "    combo_chart(month_dropdown.value)\n",
    "\n",
    "# Link dropdown for update\n",
    "month_dropdown.observe(update_chart, names='value')\n",
    "\n",
    "# Show dropdown and output\n",
    "display(VBox([month_dropdown, output]))"
   ]
  },
  {
   "cell_type": "code",
   "execution_count": 23,
   "id": "254fbc59",
   "metadata": {},
   "outputs": [
    {
     "data": {
      "image/png": "[encoded data removed]",
      "text/plain": [
       "<Figure size 720x432 with 1 Axes>"
      ]
     },
     "metadata": {
      "needs_background": "light"
     },
     "output_type": "display_data"
    },
    {
     "data": {
      "image/png": "[encoded data removed]",
      "text/plain": [
       "<Figure size 720x432 with 1 Axes>"
      ]
     },
     "metadata": {
      "needs_background": "light"
     },
     "output_type": "display_data"
    },
    {
     "data": {
      "image/png": "[encoded data removed]",
      "text/plain": [
       "<Figure size 864x432 with 1 Axes>"
      ]
     },
     "metadata": {
      "needs_background": "light"
     },
     "output_type": "display_data"
    }
   ],
   "source": [
    "import pandas as pd\n",
    "import matplotlib.pyplot as plt\n",
    "import seaborn as sns\n",
    "import numpy as np\n",
    "\n",
    "# Copy dataset\n",
    "NBA_2023_2024 = NBA_2023_2024.copy()\n",
    "\n",
    "# Ensure clean dataset\n",
    "NBA_2023_2024 = NBA_2023_2024.replace('##', np.nan)  # Ganti pd.NA dengan np.nan\n",
    "NBA_2023_2024 = NBA_2023_2024.dropna()\n",
    "\n",
    "# Convert necessary columns to numeric types\n",
    "numeric_columns = ['PTS', 'AST', 'TRB', 'FG%', '3P%', '2P%', 'Age']\n",
    "NBA_2023_2024[numeric_columns] = NBA_2023_2024[numeric_columns].apply(pd.to_numeric, errors='coerce')\n",
    "\n",
    "# --- Player Impact Analysis --- #\n",
    "def player_impact_analysis(data):\n",
    "    player_impact = data.groupby('Player').agg({\n",
    "        'PTS': 'mean',\n",
    "        'AST': 'mean',\n",
    "        'TRB': 'mean'\n",
    "    }).sort_values('PTS', ascending=False).head(10)\n",
    "\n",
    "    player_impact.plot(kind='bar', figsize=(10, 6))\n",
    "    plt.title('Top 10 Players by Impact (Average PTS, AST, TRB)', fontsize=16)\n",
    "    plt.xlabel('Player', fontsize=12)\n",
    "    plt.ylabel('Average Metrics', fontsize=12)\n",
    "    plt.xticks(rotation=45, fontsize=10)\n",
    "    plt.legend(['PTS (Points)', 'AST (Assists)', 'TRB (Rebounds)'])\n",
    "    plt.grid(axis='y', linestyle='--', alpha=0.7)\n",
    "    plt.tight_layout()\n",
    "    plt.show()\n",
    "\n",
    "# --- Shot Distribution Analysis --- #\n",
    "def shot_distribution_analysis(data):\n",
    "    shot_distribution = data.groupby('Player').agg({\n",
    "        'FG%': 'mean',\n",
    "        '2P%': 'mean',\n",
    "        '3P%': 'mean'\n",
    "    }).sort_values('FG%', ascending=False).head(10)\n",
    "\n",
    "    shot_distribution.plot(kind='bar', figsize=(10, 6))\n",
    "    plt.title('Top 10 Players by Shot Distribution (FG%, 2P%, 3P%)', fontsize=16)\n",
    "    plt.xlabel('Player', fontsize=12)\n",
    "    plt.ylabel('Average Shooting %', fontsize=12)\n",
    "    plt.xticks(rotation=45, fontsize=10)\n",
    "    plt.legend(['FG% (Field Goal)', '2P% (Two-Point)', '3P% (Three-Point)'])\n",
    "    plt.grid(axis='y', linestyle='--', alpha=0.7)\n",
    "    plt.tight_layout()\n",
    "    plt.show()\n",
    "\n",
    "# --- Age vs Performance (Stacked Bar Chart) --- #\n",
    "def age_vs_performance_stacked(data):\n",
    "    # Average PTS aggregated by age and position\n",
    "    age_performance = data.groupby(['Age', 'Pos'])['PTS'].mean().unstack()\n",
    "\n",
    "    # Plot stacked bar chart\n",
    "    age_performance.plot(kind='bar', stacked=True, figsize=(12, 6), colormap='viridis')\n",
    "    plt.title('Age vs Performance (PTS)', fontsize=16)\n",
    "    plt.xlabel('Age', fontsize=12)\n",
    "    plt.ylabel('Average Points per Game (PTS)', fontsize=12)\n",
    "    plt.legend(title='Position', fontsize=10, loc='best')\n",
    "    plt.grid(axis='y', linestyle='--', alpha=0.7)\n",
    "    plt.tight_layout()\n",
    "    plt.show()\n",
    "\n",
    "# Perform the analyses\n",
    "player_impact_analysis(NBA_2023_2024)\n",
    "shot_distribution_analysis(NBA_2023_2024)\n",
    "age_vs_performance_stacked(NBA_2023_2024)"
   ]
  },
  {
   "cell_type": "code",
   "execution_count": null,
   "id": "a679a964",
   "metadata": {},
   "outputs": [],
   "source": []
  }
 ],
 "metadata": {
  "kernelspec": {
   "display_name": "Python 3 (ipykernel)",
   "language": "python",
   "name": "python3"
  },
  "language_info": {
   "codemirror_mode": {
    "name": "ipython",
    "version": 3
   },
   "file_extension": ".py",
   "mimetype": "text/x-python",
   "name": "python",
   "nbconvert_exporter": "python",
   "pygments_lexer": "ipython3",
   "version": "3.10.0"
  }
 },
 "nbformat": 4,
 "nbformat_minor": 5
}
